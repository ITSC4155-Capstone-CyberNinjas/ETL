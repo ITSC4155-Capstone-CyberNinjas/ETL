{
 "cells": [
  {
   "cell_type": "code",
   "execution_count": 1,
   "metadata": {},
   "outputs": [
    {
     "name": "stderr",
     "output_type": "stream",
     "text": [
      "C:\\Users\\Willy\\.conda\\envs\\altair install\\lib\\site-packages\\snowflake\\connector\\options.py:96: UserWarning: You have an incompatible version of 'pyarrow' installed (9.0.0), please install a version that adheres to: 'pyarrow<8.1.0,>=8.0.0; extra == \"pandas\"'\n",
      "  warn_incompatible_dep(\n"
     ]
    }
   ],
   "source": [
    "from snowflake.snowpark import Session as sn\n",
    "import pandas as pd\n",
    "\n",
    "# Your user and password is unique to you\n",
    "connector = {\n",
    "    'account': 'tub49591.us-east-1',\n",
    "    'user': '',\n",
    "    'password': '',\n",
    "    'role': 'sysadmin',\n",
    "    'warehouse': 'MY_WAREHOUSE',\n",
    "    'database': 'NINER_TRANSIT',\n",
    "    'schema': 'transit_2019_script'}"
   ]
  },
  {
   "cell_type": "code",
   "execution_count": 2,
   "metadata": {},
   "outputs": [],
   "source": [
    "query = sn.builder.configs(connector).create()"
   ]
  },
  {
   "cell_type": "code",
   "execution_count": 3,
   "metadata": {},
   "outputs": [],
   "source": [
    "command = 'SELECT * FROM \"transit_2019\";'\n",
    "result = query.sql(command).collect()\n",
    "query.close()"
   ]
  },
  {
   "cell_type": "code",
   "execution_count": 4,
   "metadata": {},
   "outputs": [
    {
     "data": {
      "text/html": [
       "<div>\n",
       "<style scoped>\n",
       "    .dataframe tbody tr th:only-of-type {\n",
       "        vertical-align: middle;\n",
       "    }\n",
       "\n",
       "    .dataframe tbody tr th {\n",
       "        vertical-align: top;\n",
       "    }\n",
       "\n",
       "    .dataframe thead th {\n",
       "        text-align: right;\n",
       "    }\n",
       "</style>\n",
       "<table border=\"1\" class=\"dataframe\">\n",
       "  <thead>\n",
       "    <tr style=\"text-align: right;\">\n",
       "      <th></th>\n",
       "      <th>Building_Abbreviation</th>\n",
       "      <th>Building_Name</th>\n",
       "      <th>Id</th>\n",
       "      <th>Latitude</th>\n",
       "      <th>Longitude</th>\n",
       "      <th>File_Name</th>\n",
       "    </tr>\n",
       "  </thead>\n",
       "  <tbody>\n",
       "    <tr>\n",
       "      <th>0</th>\n",
       "      <td>Atki</td>\n",
       "      <td>Atkins Library</td>\n",
       "      <td>1</td>\n",
       "      <td>35.305893</td>\n",
       "      <td>-80.732145</td>\n",
       "      <td>None</td>\n",
       "    </tr>\n",
       "    <tr>\n",
       "      <th>1</th>\n",
       "      <td>Auxi</td>\n",
       "      <td>Auxiliary Services Building</td>\n",
       "      <td>2</td>\n",
       "      <td>35.307772</td>\n",
       "      <td>-80.730500</td>\n",
       "      <td>None</td>\n",
       "    </tr>\n",
       "    <tr>\n",
       "      <th>2</th>\n",
       "      <td>BaTF</td>\n",
       "      <td>None</td>\n",
       "      <td>3</td>\n",
       "      <td>NaN</td>\n",
       "      <td>NaN</td>\n",
       "      <td>None</td>\n",
       "    </tr>\n",
       "    <tr>\n",
       "      <th>3</th>\n",
       "      <td>Band</td>\n",
       "      <td>Barnhardt SAC</td>\n",
       "      <td>4</td>\n",
       "      <td>35.306302</td>\n",
       "      <td>-80.734409</td>\n",
       "      <td>None</td>\n",
       "    </tr>\n",
       "    <tr>\n",
       "      <th>4</th>\n",
       "      <td>BelG</td>\n",
       "      <td>Belk Gymnasium</td>\n",
       "      <td>5</td>\n",
       "      <td>35.305401</td>\n",
       "      <td>-80.735525</td>\n",
       "      <td>None</td>\n",
       "    </tr>\n",
       "    <tr>\n",
       "      <th>...</th>\n",
       "      <td>...</td>\n",
       "      <td>...</td>\n",
       "      <td>...</td>\n",
       "      <td>...</td>\n",
       "      <td>...</td>\n",
       "      <td>...</td>\n",
       "    </tr>\n",
       "    <tr>\n",
       "      <th>65</th>\n",
       "      <td>Wach</td>\n",
       "      <td>None</td>\n",
       "      <td>66</td>\n",
       "      <td>NaN</td>\n",
       "      <td>NaN</td>\n",
       "      <td>None</td>\n",
       "    </tr>\n",
       "    <tr>\n",
       "      <th>66</th>\n",
       "      <td>Wall</td>\n",
       "      <td>Wallis Hall</td>\n",
       "      <td>67</td>\n",
       "      <td>35.311493</td>\n",
       "      <td>-80.733694</td>\n",
       "      <td>None</td>\n",
       "    </tr>\n",
       "    <tr>\n",
       "      <th>67</th>\n",
       "      <td>Winn</td>\n",
       "      <td>Winningham</td>\n",
       "      <td>68</td>\n",
       "      <td>35.305137</td>\n",
       "      <td>-80.730419</td>\n",
       "      <td>None</td>\n",
       "    </tr>\n",
       "    <tr>\n",
       "      <th>68</th>\n",
       "      <td>With</td>\n",
       "      <td>Witherspoon Hall</td>\n",
       "      <td>69</td>\n",
       "      <td>35.310855</td>\n",
       "      <td>-80.732324</td>\n",
       "      <td>None</td>\n",
       "    </tr>\n",
       "    <tr>\n",
       "      <th>69</th>\n",
       "      <td>Wood</td>\n",
       "      <td>Woodward Hall</td>\n",
       "      <td>70</td>\n",
       "      <td>35.307516</td>\n",
       "      <td>-80.735717</td>\n",
       "      <td>None</td>\n",
       "    </tr>\n",
       "  </tbody>\n",
       "</table>\n",
       "<p>70 rows × 6 columns</p>\n",
       "</div>"
      ],
      "text/plain": [
       "   Building_Abbreviation                Building_Name  Id   Latitude  \\\n",
       "0                   Atki               Atkins Library   1  35.305893   \n",
       "1                   Auxi  Auxiliary Services Building   2  35.307772   \n",
       "2                   BaTF                         None   3        NaN   \n",
       "3                   Band                Barnhardt SAC   4  35.306302   \n",
       "4                   BelG               Belk Gymnasium   5  35.305401   \n",
       "..                   ...                          ...  ..        ...   \n",
       "65                  Wach                         None  66        NaN   \n",
       "66                  Wall                  Wallis Hall  67  35.311493   \n",
       "67                  Winn                   Winningham  68  35.305137   \n",
       "68                  With             Witherspoon Hall  69  35.310855   \n",
       "69                  Wood                Woodward Hall  70  35.307516   \n",
       "\n",
       "    Longitude File_Name  \n",
       "0  -80.732145      None  \n",
       "1  -80.730500      None  \n",
       "2         NaN      None  \n",
       "3  -80.734409      None  \n",
       "4  -80.735525      None  \n",
       "..        ...       ...  \n",
       "65        NaN      None  \n",
       "66 -80.733694      None  \n",
       "67 -80.730419      None  \n",
       "68 -80.732324      None  \n",
       "69 -80.735717      None  \n",
       "\n",
       "[70 rows x 6 columns]"
      ]
     },
     "metadata": {},
     "output_type": "display_data"
    }
   ],
   "source": [
    "df = pd.DataFrame(list(result))\n",
    "display(df)"
   ]
  },
  {
   "cell_type": "code",
   "execution_count": 5,
   "metadata": {},
   "outputs": [
    {
     "name": "stdout",
     "output_type": "stream",
     "text": [
      "Test_Data.csv\n"
     ]
    }
   ],
   "source": [
    "# CHANGE THIS\n",
    "#Create data file\n",
    "filename = 'Test' + '_Data.csv'\n",
    "# Remove index while writing\n",
    "df.to_csv(filename, index=False)\n",
    "print (filename)"
   ]
  },
  {
   "cell_type": "code",
   "execution_count": null,
   "metadata": {},
   "outputs": [],
   "source": []
  }
 ],
 "metadata": {
  "kernelspec": {
   "display_name": "Python 3 (ipykernel)",
   "language": "python",
   "name": "python3"
  },
  "language_info": {
   "codemirror_mode": {
    "name": "ipython",
    "version": 3
   },
   "file_extension": ".py",
   "mimetype": "text/x-python",
   "name": "python",
   "nbconvert_exporter": "python",
   "pygments_lexer": "ipython3",
   "version": "3.8.13"
  },
  "vscode": {
   "interpreter": {
    "hash": "ef9e3ef70dfc39659b5c64f47019689fa8cd3fd935c2c2994c925dbf5d772568"
   }
  }
 },
 "nbformat": 4,
 "nbformat_minor": 2
}
