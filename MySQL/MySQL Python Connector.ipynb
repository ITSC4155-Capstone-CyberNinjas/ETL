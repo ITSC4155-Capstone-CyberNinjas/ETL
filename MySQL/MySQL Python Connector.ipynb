{
 "cells": [
  {
   "cell_type": "code",
   "execution_count": null,
   "id": "9e22bd2f",
   "metadata": {},
   "outputs": [],
   "source": [
    "import mysql.connector as SQLcon\n",
    "import pandas as pd\n",
    "pd.set_option('display.max_rows', 60)\n",
    "\n",
    "# Connecting to MySQL instance (NOTE: Your MySQL instance will have different info)\n",
    "SQLdb = SQLcon.connect(\n",
    "    host = '',\n",
    "    user = '',\n",
    "    password = '',\n",
    "    database = 'CyberNinjas'\n",
    ")\n",
    "\n",
    "controller = SQLdb.cursor()\n",
    "\n",
    "# ---Getting 'coordinates' data---\n",
    "# Getting column names\n",
    "controller.execute('SHOW COLUMNS FROM coordinates;')\n",
    "column_info = controller.fetchall()\n",
    "\n",
    "column_names = []\n",
    "for name in column_info:\n",
    "    column_names.append(name[0])\n",
    "\n",
    "\n",
    "# Getting table data\n",
    "controller.execute('SELECT * FROM coordinates;')      \n",
    "table_data = controller.fetchall()\n",
    "\n",
    "data_list = []\n",
    "for row in table_data:\n",
    "    data_list.append(row)\n",
    "\n",
    "    \n",
    "# Creating a dataframe\n",
    "df_coord = pd.DataFrame(data_list, columns = column_names)\n",
    "df_coord"
   ]
  },
  {
   "cell_type": "code",
   "execution_count": null,
   "id": "f925ee67",
   "metadata": {},
   "outputs": [],
   "source": [
    "# ---Getting 'wifi_count' data---\n",
    "# Getting column names\n",
    "controller.execute('SHOW COLUMNS FROM wifi_count;')\n",
    "column_info = controller.fetchall()\n",
    "\n",
    "column_names = []\n",
    "for name in column_info:\n",
    "    column_names.append(name[0])\n",
    "\n",
    "\n",
    "# Getting table data\n",
    "controller.execute('SELECT * FROM wifi_count;')      \n",
    "table_data = controller.fetchall()\n",
    "\n",
    "data_list = []\n",
    "for row in table_data:\n",
    "    data_list.append(row)\n",
    "\n",
    "    \n",
    "# Creating a dataframe\n",
    "df_wifi = pd.DataFrame(data_list, columns = column_names)\n",
    "df_wifi"
   ]
  }
 ],
 "metadata": {
  "kernelspec": {
   "display_name": "Python 3 (ipykernel)",
   "language": "python",
   "name": "python3"
  },
  "language_info": {
   "codemirror_mode": {
    "name": "ipython",
    "version": 3
   },
   "file_extension": ".py",
   "mimetype": "text/x-python",
   "name": "python",
   "nbconvert_exporter": "python",
   "pygments_lexer": "ipython3",
   "version": "3.8.13"
  }
 },
 "nbformat": 4,
 "nbformat_minor": 5
}
