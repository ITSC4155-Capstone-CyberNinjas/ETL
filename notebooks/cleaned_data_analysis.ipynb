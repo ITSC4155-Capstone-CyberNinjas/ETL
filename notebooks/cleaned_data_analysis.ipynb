{
 "cells": [
  {
   "cell_type": "code",
   "execution_count": 1,
   "id": "e0bd6c74-e767-4d20-9e8b-6ead714887f3",
   "metadata": {},
   "outputs": [],
   "source": [
    "import os\n",
    "import pandas as pd\n",
    "import numpy as np\n",
    "from pathlib import Path\n",
    "from datetime import datetime\n",
    "import seaborn as sns\n",
    "import matplotlib.pyplot as plt"
   ]
  },
  {
   "cell_type": "code",
   "execution_count": 3,
   "id": "6b793686-a7bf-41b8-90e2-21a2b9d2e477",
   "metadata": {},
   "outputs": [],
   "source": [
    "data_path = Path('/home/calvinhathcock/Documents/College/UNCC/Fall 2022/ITSC 4155/Project/transformed_data')"
   ]
  },
  {
   "cell_type": "code",
   "execution_count": 4,
   "id": "34ee4e13-6e5a-4b1c-b3b9-6385ea43eadd",
   "metadata": {},
   "outputs": [],
   "source": [
    "os.chdir(data_path)"
   ]
  },
  {
   "cell_type": "code",
   "execution_count": 6,
   "id": "2e8c5ef8-c01a-4d2f-aa93-221e826ff3df",
   "metadata": {
    "collapsed": true,
    "jupyter": {
     "outputs_hidden": true
    },
    "tags": []
   },
   "outputs": [
    {
     "data": {
      "text/plain": [
       "['counts_wireless_09-19-2021.csv',\n",
       " 'counts_wireless_09-06-2021.csv',\n",
       " 'counts_wireless_10-05-2020.csv',\n",
       " 'counts_wireless_01-09-2021.csv',\n",
       " 'counts_wireless_06-06-2021.csv',\n",
       " 'counts_wireless_03-18-2021.csv',\n",
       " 'counts_wireless_10-07-2020.csv',\n",
       " 'counts_wireless_03-26-2021.csv',\n",
       " 'counts_wireless_03-10-2021.csv',\n",
       " 'counts_wireless_08-31-2021.csv',\n",
       " 'counts_wireless_05-03-2021.csv',\n",
       " 'counts_wireless_10-18-2020.csv',\n",
       " 'counts_wireless_01-11-2021.csv',\n",
       " 'counts_wireless_12-31-2020.csv',\n",
       " 'counts_wireless_12-30-2020.csv',\n",
       " 'counts_wireless_01-19-2021.csv',\n",
       " 'counts_wireless_11-26-2020.csv',\n",
       " 'counts_wireless_02-06-2021.csv',\n",
       " 'counts_wireless_01-02-2021.csv',\n",
       " 'counts_wireless_04-27-2021.csv',\n",
       " 'counts_wireless_03-23-2021.csv',\n",
       " 'counts_wireless_02-21-2021.csv',\n",
       " 'counts_wireless_03-20-2021.csv',\n",
       " 'counts_wireless_11-24-2020.csv',\n",
       " 'counts_wireless_06-12-2021.csv',\n",
       " 'counts_wireless_01-22-2021.csv',\n",
       " 'counts_wireless_10-16-2020.csv',\n",
       " 'counts_wireless_02-15-2021.csv',\n",
       " 'counts_wireless_04-26-2021.csv',\n",
       " 'counts_wireless_08-04-2021.csv',\n",
       " 'counts_wireless_09-13-2021.csv',\n",
       " 'counts_wireless_10-22-2020.csv',\n",
       " 'counts_wireless_08-27-2021.csv',\n",
       " 'counts_wireless_04-30-2021.csv',\n",
       " 'counts_wireless_05-02-2021.csv',\n",
       " 'counts_wireless_04-29-2021.csv',\n",
       " 'counts_wireless_09-24-2021.csv',\n",
       " 'counts_wireless_01-21-2021.csv',\n",
       " 'counts_wireless_09-28-2021.csv',\n",
       " 'counts_wireless_11-18-2020.csv',\n",
       " 'counts_wireless_02-13-2021.csv',\n",
       " 'counts_wireless_08-12-2021.csv',\n",
       " 'counts_wireless_12-18-2020.csv',\n",
       " 'counts_wireless_02-09-2021.csv',\n",
       " 'counts_wireless_11-25-2020.csv',\n",
       " 'counts_wireless_03-12-2021.csv',\n",
       " 'counts_wireless_07-12-2021.csv',\n",
       " 'counts_wireless_02-10-2021.csv',\n",
       " 'counts_wireless_05-27-2021.csv',\n",
       " 'counts_wireless_09-26-2021.csv',\n",
       " 'counts_wireless_07-14-2021.csv',\n",
       " 'counts_wireless_10-08-2020.csv',\n",
       " 'counts_wireless_03-29-2021.csv',\n",
       " 'counts_wireless_01-31-2021.csv',\n",
       " 'counts_wireless_06-25-2021.csv',\n",
       " 'counts_wireless_01-16-2021.csv',\n",
       " 'counts_wireless_03-15-2021.csv',\n",
       " 'counts_wireless_01-28-2021.csv',\n",
       " 'counts_wireless_02-26-2021.csv',\n",
       " 'counts_wireless_09-08-2021.csv',\n",
       " 'counts_wireless_03-25-2021.csv',\n",
       " 'counts_wireless_10-28-2020.csv',\n",
       " 'counts_wireless_03-09-2021.csv',\n",
       " 'counts_wireless_09-28-2020.csv',\n",
       " 'counts_wireless_07-17-2021.csv',\n",
       " 'counts_wireless_01-07-2021.csv',\n",
       " 'counts_wireless_01-08-2021.csv',\n",
       " 'counts_wireless_02-08-2021.csv',\n",
       " 'counts_wireless_12-01-2020.csv',\n",
       " 'counts_wireless_08-09-2021.csv',\n",
       " 'counts_wireless_11-01-2020.csv',\n",
       " 'counts_wireless_09-01-2021.csv',\n",
       " 'counts_wireless_01-05-2021.csv',\n",
       " 'counts_wireless_05-05-2021.csv',\n",
       " 'counts_wireless_06-23-2021.csv',\n",
       " 'counts_wireless_11-08-2020.csv',\n",
       " 'counts_wireless_12-19-2020.csv',\n",
       " 'counts_wireless_02-11-2021.csv',\n",
       " 'counts_wireless_05-14-2021.csv',\n",
       " 'counts_wireless_10-30-2020.csv',\n",
       " 'counts_wireless_10-02-2020.csv',\n",
       " 'counts_wireless_02-19-2021.csv',\n",
       " 'counts_wireless_04-07-2021.csv',\n",
       " 'counts_wireless_09-10-2021.csv',\n",
       " 'counts_wireless_04-21-2021.csv',\n",
       " 'counts_wireless_12-07-2020.csv',\n",
       " 'counts_wireless_05-24-2021.csv',\n",
       " 'counts_wireless_07-01-2021.csv',\n",
       " 'counts_wireless_03-22-2021.csv',\n",
       " 'counts_wireless_09-03-2021.csv',\n",
       " 'counts_wireless_08-03-2021.csv',\n",
       " 'counts_wireless_11-11-2020.csv',\n",
       " 'counts_wireless_logs.zip',\n",
       " 'counts_wireless_12-13-2020.csv',\n",
       " 'counts_wireless_05-08-2021.csv',\n",
       " 'counts_wireless_01-25-2021.csv',\n",
       " 'counts_wireless_10-21-2020.csv',\n",
       " 'counts_wireless_08-15-2021.csv',\n",
       " 'counts_wireless_02-24-2021.csv',\n",
       " 'counts_wireless_11-20-2020.csv',\n",
       " 'counts_wireless_04-04-2021.csv',\n",
       " 'counts_wireless_06-16-2021.csv',\n",
       " 'counts_wireless_04-05-2021.csv',\n",
       " 'counts_wireless_07-20-2021.csv',\n",
       " 'counts_wireless_04-01-2021.csv',\n",
       " 'counts_wireless_07-27-2021.csv',\n",
       " 'counts_wireless_12-10-2020.csv',\n",
       " 'counts_wireless_07-19-2021.csv',\n",
       " 'counts_wireless_07-21-2021.csv',\n",
       " 'counts_wireless_01-06-2021.csv',\n",
       " 'counts_wireless_04-23-2021.csv',\n",
       " 'counts_wireless_02-20-2021.csv',\n",
       " 'counts_wireless_05-01-2021.csv',\n",
       " 'counts_wireless_05-23-2021.csv',\n",
       " 'counts_wireless_09-18-2021.csv',\n",
       " 'counts_wireless_10-20-2020.csv',\n",
       " 'counts_wireless_11-05-2020.csv',\n",
       " 'counts_wireless_07-22-2021.csv',\n",
       " 'counts_wireless_10-26-2020.csv',\n",
       " 'counts_wireless_05-31-2021.csv',\n",
       " 'counts_wireless_06-07-2021.csv',\n",
       " 'counts_wireless_08-02-2021.csv',\n",
       " 'counts_wireless_11-28-2020.csv',\n",
       " 'counts_wireless_09-27-2021.csv',\n",
       " 'counts_wireless_09-11-2021.csv',\n",
       " 'counts_wireless_04-08-2021.csv',\n",
       " 'counts_wireless_09-09-2021.csv',\n",
       " 'counts_wireless_01-15-2021.csv',\n",
       " 'counts_wireless_02-18-2021.csv',\n",
       " 'counts_wireless_09-15-2021.csv',\n",
       " 'counts_wireless_08-06-2021.csv',\n",
       " 'counts_wireless_12-09-2020.csv',\n",
       " 'counts_wireless_11-23-2020.csv',\n",
       " 'counts_wireless_10-06-2020.csv',\n",
       " 'counts_wireless_11-09-2020.csv',\n",
       " 'counts_wireless_10-27-2020.csv',\n",
       " 'counts_wireless_03-30-2021.csv',\n",
       " 'counts_wireless_06-09-2021.csv',\n",
       " 'counts_wireless_01-23-2021.csv',\n",
       " 'counts_wireless_07-13-2021.csv',\n",
       " 'counts_wireless_07-05-2021.csv',\n",
       " 'counts_wireless_03-28-2021.csv',\n",
       " 'counts_wireless_05-09-2021.csv',\n",
       " 'counts_wireless_01-29-2021.csv',\n",
       " 'counts_wireless_03-31-2021.csv',\n",
       " 'counts_wireless_12-05-2020.csv',\n",
       " 'counts_wireless_07-29-2021.csv',\n",
       " 'counts_wireless_09-29-2020.csv',\n",
       " 'counts_wireless_12-12-2020.csv',\n",
       " 'counts_wireless_09-23-2021.csv',\n",
       " 'counts_wireless_10-04-2020.csv',\n",
       " 'counts_wireless_07-26-2021.csv',\n",
       " 'counts_wireless_07-24-2021.csv',\n",
       " 'counts_wireless_03-05-2021.csv',\n",
       " 'counts_wireless_11-13-2020.csv',\n",
       " 'counts_wireless_03-11-2021.csv',\n",
       " 'counts_wireless_05-16-2021.csv',\n",
       " 'counts_wireless_03-06-2021.csv',\n",
       " 'counts_wireless_01-14-2021.csv',\n",
       " 'counts_wireless_06-01-2021.csv',\n",
       " 'counts_wireless_05-06-2021.csv',\n",
       " 'counts_wireless_06-20-2021.csv',\n",
       " 'counts_wireless_01-10-2021.csv',\n",
       " 'counts_wireless_07-04-2021.csv',\n",
       " 'counts_wireless_01-20-2021.csv',\n",
       " 'counts_wireless_10-25-2020.csv',\n",
       " 'counts_wireless_02-25-2021.csv',\n",
       " 'counts_wireless_03-04-2021.csv',\n",
       " 'counts_wireless_09-25-2021.csv',\n",
       " 'counts_wireless_10-24-2020.csv',\n",
       " 'counts_wireless_12-08-2020.csv',\n",
       " 'counts_wireless_03-08-2021.csv',\n",
       " 'counts_wireless_03-24-2021.csv',\n",
       " 'counts_wireless_04-16-2021.csv',\n",
       " 'counts_wireless_07-02-2021.csv',\n",
       " 'counts_wireless_01-27-2021.csv',\n",
       " 'counts_wireless_10-17-2020.csv',\n",
       " 'counts_wireless_11-17-2020.csv',\n",
       " 'counts_wireless_10-15-2020.csv',\n",
       " 'counts_wireless_04-19-2021.csv',\n",
       " 'counts_wireless_02-04-2021.csv',\n",
       " 'counts_wireless_08-01-2021.csv',\n",
       " 'counts_wireless_11-15-2020.csv',\n",
       " 'counts_wireless_05-11-2021.csv',\n",
       " 'counts_wireless_12-22-2020.csv',\n",
       " 'counts_wireless_01-18-2021.csv',\n",
       " 'counts_wireless_02-14-2021.csv',\n",
       " 'counts_wireless_05-29-2021.csv',\n",
       " 'counts_wireless_10-10-2020.csv',\n",
       " 'counts_wireless_04-25-2021.csv',\n",
       " 'counts_wireless_02-17-2021.csv',\n",
       " 'counts_wireless_07-30-2021.csv',\n",
       " 'counts_wireless_06-29-2021.csv',\n",
       " 'counts_wireless_09-04-2021.csv',\n",
       " 'counts_wireless_08-26-2021.csv',\n",
       " 'counts_wireless_06-19-2021.csv',\n",
       " 'counts_wireless_06-03-2021.csv',\n",
       " 'counts_wireless_07-07-2021.csv',\n",
       " 'counts_wireless_06-22-2021.csv',\n",
       " 'counts_wireless_12-03-2020.csv',\n",
       " 'counts_wireless_04-15-2021.csv',\n",
       " 'counts_wireless_04-10-2021.csv',\n",
       " 'counts_wireless_04-14-2021.csv',\n",
       " 'counts_wireless_06-27-2021.csv',\n",
       " 'counts_wireless_03-27-2021.csv',\n",
       " 'counts_wireless_11-29-2020.csv',\n",
       " 'counts_wireless_12-17-2020.csv',\n",
       " 'counts_wireless_11-10-2020.csv',\n",
       " 'counts_wireless_10-19-2020.csv',\n",
       " 'counts_wireless_02-16-2021.csv',\n",
       " 'counts_wireless_05-13-2021.csv',\n",
       " 'counts_wireless_07-15-2021.csv',\n",
       " 'counts_wireless_02-07-2021.csv',\n",
       " 'counts_wireless_05-21-2021.csv',\n",
       " 'counts_wireless_03-14-2021.csv',\n",
       " 'counts_wireless_10-23-2020.csv',\n",
       " 'counts_wireless_07-06-2021.csv',\n",
       " 'counts_wireless_04-11-2021.csv',\n",
       " 'counts_wireless_05-10-2021.csv',\n",
       " 'counts_wireless_03-17-2021.csv',\n",
       " 'counts_wireless_11-27-2020.csv',\n",
       " 'counts_wireless_07-11-2021.csv',\n",
       " 'counts_wireless_12-06-2020.csv',\n",
       " 'counts_wireless_07-28-2021.csv',\n",
       " 'counts_wireless_08-14-2021.csv',\n",
       " 'counts_wireless_05-17-2021.csv',\n",
       " 'counts_wireless_05-19-2021.csv',\n",
       " 'counts_wireless_12-27-2020.csv',\n",
       " 'counts_wireless_08-16-2021.csv',\n",
       " 'counts_wireless_07-25-2021.csv',\n",
       " 'counts_wireless_11-21-2020.csv',\n",
       " 'counts_wireless_09-12-2021.csv',\n",
       " 'counts_wireless_06-28-2021.csv',\n",
       " 'counts_wireless_04-03-2021.csv',\n",
       " 'counts_wireless_04-02-2021.csv',\n",
       " 'counts_wireless_05-28-2021.csv',\n",
       " 'counts_wireless_08-28-2021.csv',\n",
       " 'counts_wireless_09-07-2021.csv',\n",
       " 'counts_wireless_12-16-2020.csv',\n",
       " 'counts_wireless_01-17-2021.csv',\n",
       " 'counts_wireless_12-15-2020.csv',\n",
       " 'counts_wireless_06-08-2021.csv',\n",
       " 'counts_wireless_09-14-2021.csv',\n",
       " 'counts_wireless_04-18-2021.csv',\n",
       " 'counts_wireless_12-23-2020.csv',\n",
       " 'counts_wireless_10-01-2020.csv',\n",
       " 'counts_wireless_09-30-2020.csv',\n",
       " 'counts_wireless_12-28-2020.csv',\n",
       " 'counts_wireless_04-24-2021.csv',\n",
       " 'counts_wireless_11-03-2020.csv',\n",
       " 'counts_wireless_11-14-2020.csv',\n",
       " 'counts_wireless_12-14-2020.csv',\n",
       " 'counts_wireless_07-18-2021.csv',\n",
       " 'counts_wireless_06-30-2021.csv',\n",
       " 'counts_wireless_09-20-2021.csv',\n",
       " 'counts_wireless_12-21-2020.csv',\n",
       " 'counts_wireless_02-05-2021.csv',\n",
       " 'counts_wireless_01-30-2021.csv',\n",
       " 'counts_wireless_08-05-2021.csv',\n",
       " 'counts_wireless_12-26-2020.csv',\n",
       " 'counts_wireless_08-08-2021.csv',\n",
       " 'counts_wireless_05-26-2021.csv',\n",
       " 'counts_wireless_04-17-2021.csv',\n",
       " 'counts_wireless_07-08-2021.csv',\n",
       " 'counts_wireless_06-04-2021.csv',\n",
       " 'counts_wireless_09-21-2021.csv',\n",
       " 'counts_wireless_10-31-2020.csv',\n",
       " 'counts_wireless_02-23-2021.csv',\n",
       " 'counts_wireless_08-10-2021.csv',\n",
       " 'counts_wireless_03-21-2021.csv',\n",
       " 'counts_wireless_09-22-2021.csv',\n",
       " 'counts_wireless_10-03-2020.csv',\n",
       " 'counts_wireless_11-16-2020.csv',\n",
       " 'counts_wireless_01-26-2021.csv',\n",
       " 'counts_wireless_02-12-2021.csv',\n",
       " 'counts_wireless_03-01-2021.csv',\n",
       " 'counts_wireless_09-16-2021.csv',\n",
       " 'counts_wireless_12-24-2020.csv',\n",
       " 'counts_wireless_12-29-2020.csv',\n",
       " 'counts_wireless_05-18-2021.csv',\n",
       " 'counts_wireless_12-02-2020.csv',\n",
       " 'counts_wireless_06-17-2021.csv',\n",
       " 'counts_wireless_07-03-2021.csv',\n",
       " 'counts_wireless_05-22-2021.csv',\n",
       " 'counts_wireless_09-05-2021.csv',\n",
       " 'counts_wireless_02-22-2021.csv',\n",
       " 'counts_wireless_10-09-2020.csv',\n",
       " 'counts_wireless_02-03-2021.csv',\n",
       " 'counts_wireless_06-21-2021.csv',\n",
       " 'counts_wireless_12-11-2020.csv',\n",
       " 'counts_wireless_08-07-2021.csv',\n",
       " 'counts_wireless_08-13-2021.csv',\n",
       " 'counts_wireless_06-02-2021.csv',\n",
       " 'counts_wireless_06-15-2021.csv',\n",
       " 'counts_wireless_07-09-2021.csv',\n",
       " 'counts_wireless_10-12-2020.csv',\n",
       " 'counts_wireless_07-16-2021.csv',\n",
       " 'counts_wireless_06-11-2021.csv',\n",
       " 'counts_wireless_12-25-2020.csv',\n",
       " 'counts_wireless_11-19-2020.csv',\n",
       " 'counts_wireless_01-03-2021.csv',\n",
       " 'counts_wireless_06-18-2021.csv',\n",
       " 'counts_wireless_03-13-2021.csv',\n",
       " 'counts_wireless_06-05-2021.csv',\n",
       " 'counts_wireless_03-19-2021.csv',\n",
       " 'counts_wireless_04-28-2021.csv',\n",
       " 'counts_wireless_10-29-2020.csv',\n",
       " 'counts_wireless_03-07-2021.csv',\n",
       " 'counts_wireless_11-02-2020.csv',\n",
       " 'counts_wireless_11-04-2020.csv',\n",
       " 'counts_wireless_02-28-2021.csv',\n",
       " 'counts_wireless_05-20-2021.csv',\n",
       " 'counts_wireless_05-12-2021.csv',\n",
       " 'counts_wireless_06-14-2021.csv',\n",
       " 'counts_wireless_10-14-2020.csv',\n",
       " 'counts_wireless_07-10-2021.csv',\n",
       " 'counts_wireless_01-13-2021.csv',\n",
       " 'counts_wireless_05-07-2021.csv',\n",
       " 'counts_wireless_08-30-2021.csv',\n",
       " 'counts_wireless_12-04-2020.csv',\n",
       " 'counts_wireless_07-23-2021.csv',\n",
       " 'counts_wireless_11-07-2020.csv',\n",
       " 'counts_wireless_10-11-2020.csv',\n",
       " 'counts_wireless_02-02-2021.csv',\n",
       " 'counts_wireless_09-02-2021.csv',\n",
       " 'counts_wireless_11-06-2020.csv',\n",
       " 'counts_wireless_10-13-2020.csv',\n",
       " 'counts_wireless_03-03-2021.csv',\n",
       " 'counts_wireless_04-13-2021.csv',\n",
       " 'counts_wireless_11-30-2020.csv',\n",
       " 'counts_wireless_09-17-2021.csv',\n",
       " 'counts_wireless_06-24-2021.csv',\n",
       " 'counts_wireless_05-15-2021.csv',\n",
       " 'counts_wireless_02-27-2021.csv',\n",
       " 'counts_wireless_11-22-2020.csv',\n",
       " 'counts_wireless_06-26-2021.csv',\n",
       " 'counts_wireless_06-10-2021.csv',\n",
       " 'counts_wireless_04-09-2021.csv',\n",
       " 'counts_wireless_05-25-2021.csv',\n",
       " 'counts_wireless_03-16-2021.csv',\n",
       " 'counts_wireless_04-12-2021.csv',\n",
       " 'counts_wireless_12-20-2020.csv',\n",
       " 'counts_wireless_06-13-2021.csv',\n",
       " 'counts_wireless_01-24-2021.csv',\n",
       " 'counts_wireless_03-02-2021.csv',\n",
       " 'counts_wireless_01-04-2021.csv',\n",
       " 'counts_wireless_01-01-2021.csv',\n",
       " 'counts_wireless_04-20-2021.csv',\n",
       " 'counts_wireless_04-06-2021.csv',\n",
       " 'counts_wireless_01-12-2021.csv',\n",
       " 'counts_wireless_08-11-2021.csv',\n",
       " 'counts_wireless_11-12-2020.csv',\n",
       " 'counts_wireless_05-04-2021.csv',\n",
       " 'counts_wireless_02-01-2021.csv',\n",
       " 'counts_wireless_05-30-2021.csv',\n",
       " 'counts_wireless_04-22-2021.csv',\n",
       " 'counts_wireless_08-29-2021.csv']"
      ]
     },
     "execution_count": 6,
     "metadata": {},
     "output_type": "execute_result"
    }
   ],
   "source": [
    "os.listdir()"
   ]
  },
  {
   "cell_type": "code",
   "execution_count": 51,
   "id": "42936f8a-1853-4303-bc39-8ad9f9c28bbc",
   "metadata": {},
   "outputs": [],
   "source": [
    "df = pd.read_csv('counts_wireless_08-29-2021.csv')"
   ]
  },
  {
   "cell_type": "code",
   "execution_count": 53,
   "id": "1e01a2df-38a7-445d-9e3b-a8384b6d7170",
   "metadata": {},
   "outputs": [
    {
     "data": {
      "text/plain": [
       "[Atki    24\n",
       " Rece    24\n",
       " HunH    24\n",
       " Irwi    24\n",
       " Auxi    24\n",
       "         ..\n",
       " Nine     7\n",
       " FouA     6\n",
       " Foun     4\n",
       " East     1\n",
       " FacA     1\n",
       " Name: building, Length: 83, dtype: int64]"
      ]
     },
     "execution_count": 53,
     "metadata": {},
     "output_type": "execute_result"
    }
   ],
   "source": []
  },
  {
   "cell_type": "code",
   "execution_count": 54,
   "id": "6e6426e7-6528-407e-96c6-5d0d26eea8f2",
   "metadata": {},
   "outputs": [],
   "source": [
    "buildings_of_interest = ['Atki', 'StuU', 'Bioi']"
   ]
  },
  {
   "cell_type": "code",
   "execution_count": 55,
   "id": "ba09ffc8-6bc0-43d8-b778-51548cf79b75",
   "metadata": {},
   "outputs": [],
   "source": [
    "df = df.loc[df['building'].isin(buildings_of_interest)]"
   ]
  },
  {
   "cell_type": "code",
   "execution_count": 56,
   "id": "ad63c47a-53ab-4304-beb0-8a8266afca04",
   "metadata": {},
   "outputs": [],
   "source": [
    "df['timestamp'] = pd.to_datetime(df.timestamp)"
   ]
  },
  {
   "cell_type": "code",
   "execution_count": 57,
   "id": "2a519227-0211-47a1-9fbd-e26bdb215825",
   "metadata": {
    "tags": []
   },
   "outputs": [],
   "source": [
    "df['hour'] = df.timestamp.dt.hour"
   ]
  },
  {
   "cell_type": "code",
   "execution_count": 58,
   "id": "b9cfd47c-f347-48d9-adfa-27663fe6ff67",
   "metadata": {},
   "outputs": [
    {
     "data": {
      "text/plain": [
       "<AxesSubplot:xlabel='hour', ylabel='count'>"
      ]
     },
     "execution_count": 58,
     "metadata": {},
     "output_type": "execute_result"
    },
    {
     "data": {
      "image/png": "[encoded data removed]",
      "text/plain": [
       "<Figure size 640x480 with 1 Axes>"
      ]
     },
     "metadata": {},
     "output_type": "display_data"
    }
   ],
   "source": [
    "sns.barplot(data = df, x = 'hour', y = 'count', hue = 'building')"
   ]
  },
  {
   "cell_type": "code",
   "execution_count": 72,
   "id": "06f9a4d8-37aa-49dc-9bf8-cdcf31d8281b",
   "metadata": {},
   "outputs": [
    {
     "data": {
      "text/plain": [
       "'Sunday'"
      ]
     },
     "execution_count": 72,
     "metadata": {},
     "output_type": "execute_result"
    }
   ],
   "source": [
    "df['timestamp'].dt.day_name()[0]"
   ]
  },
  {
   "cell_type": "code",
   "execution_count": 80,
   "id": "76137b0a-9dbf-4eff-8ac7-e753f35c4f3b",
   "metadata": {},
   "outputs": [
    {
     "data": {
      "text/plain": [
       "'2021-08-29'"
      ]
     },
     "execution_count": 80,
     "metadata": {},
     "output_type": "execute_result"
    }
   ],
   "source": [
    "str(df['timestamp'].dt.date[0])"
   ]
  },
  {
   "cell_type": "code",
   "execution_count": 83,
   "id": "def0194d-9cb9-4f50-a036-3df46417350f",
   "metadata": {},
   "outputs": [],
   "source": [
    "def plot_building_comparison(file):\n",
    "    df = pd.read_csv(file)\n",
    "    buildings_of_interest = ['Atki', 'StuU', 'Bioi']\n",
    "    df = df.loc[df['building'].isin(buildings_of_interest)]\n",
    "    df['timestamp'] = pd.to_datetime(df.timestamp)\n",
    "    df['hour'] = df.timestamp.dt.hour\n",
    "    date = str(df['timestamp'].dt.date[0])\n",
    "    day_name = df['timestamp'].dt.day_name()[0]\n",
    "    g = sns.barplot(data = df, x = 'hour', y = 'count', hue = 'building').set(title = day_name + ' ' + date)"
   ]
  },
  {
   "cell_type": "code",
   "execution_count": 85,
   "id": "8e8c1ddf-69c8-4ab9-827b-95f3665e21d3",
   "metadata": {},
   "outputs": [
    {
     "data": {
      "image/png": "[encoded data removed]",
      "text/plain": [
       "<Figure size 640x480 with 1 Axes>"
      ]
     },
     "metadata": {},
     "output_type": "display_data"
    }
   ],
   "source": [
    "plot_building_comparison('counts_wireless_09-04-2021.csv')"
   ]
  },
  {
   "cell_type": "code",
   "execution_count": 6,
   "id": "473a6882-e135-42a0-b4a2-312941aa23ed",
   "metadata": {},
   "outputs": [],
   "source": [
    "def plot_distribution(file):\n",
    "    df = pd.read_csv(file)\n",
    "    df['timestamp'] = pd.to_datetime(df.timestamp)\n",
    "    df['hour'] = df.timestamp.dt.hour\n",
    "    date = str(df['timestamp'].dt.date[0])\n",
    "    day_name = df['timestamp'].dt.day_name()[0]\n",
    "    g = sns.barplot(data = df, x = 'hour', y = 'count').set(title = day_name + ' ' + date)"
   ]
  },
  {
   "cell_type": "code",
   "execution_count": 16,
   "id": "e2d49c30-f107-42e3-bcf6-e5182f87c194",
   "metadata": {},
   "outputs": [
    {
     "data": {
      "image/png": "[encoded data removed]",
      "text/plain": [
       "<Figure size 640x480 with 1 Axes>"
      ]
     },
     "metadata": {},
     "output_type": "display_data"
    }
   ],
   "source": [
    "plot_distribution('counts_wireless_09-11-2021.csv')"
   ]
  },
  {
   "cell_type": "code",
   "execution_count": 10,
   "id": "680676e8-5e04-4b74-94c2-4a7e2c4c2a20",
   "metadata": {},
   "outputs": [
    {
     "data": {
      "image/png": "[encoded data removed]",
      "text/plain": [
       "<Figure size 640x480 with 1 Axes>"
      ]
     },
     "metadata": {},
     "output_type": "display_data"
    }
   ],
   "source": [
    "plot_distribution('counts_wireless_09-03-2021.csv')"
   ]
  }
 ],
 "metadata": {
  "kernelspec": {
   "display_name": "Python 3 (ipykernel)",
   "language": "python",
   "name": "python3"
  },
  "language_info": {
   "codemirror_mode": {
    "name": "ipython",
    "version": 3
   },
   "file_extension": ".py",
   "mimetype": "text/x-python",
   "name": "python",
   "nbconvert_exporter": "python",
   "pygments_lexer": "ipython3",
   "version": "3.10.4"
  }
 },
 "nbformat": 4,
 "nbformat_minor": 5
}
