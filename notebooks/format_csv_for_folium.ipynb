{
 "cells": [
  {
   "cell_type": "markdown",
   "id": "1e5d3f93-bfc2-4ff1-bb55-41e3446653b9",
   "metadata": {},
   "source": [
    "# Concat original transformed files"
   ]
  },
  {
   "cell_type": "code",
   "execution_count": 1,
   "id": "6ca4391f-3448-44b9-b979-21e2938773fe",
   "metadata": {},
   "outputs": [],
   "source": [
    "import pandas as pd\n",
    "import os"
   ]
  },
  {
   "cell_type": "code",
   "execution_count": 2,
   "id": "3cbb5889-cb85-4b6b-b333-8f45cb489104",
   "metadata": {},
   "outputs": [],
   "source": [
    "os.chdir('/home/calvinhathcock/Documents/College/UNCC/Fall 2022/ITSC 4155/Project/transformed_data/csv')"
   ]
  },
  {
   "cell_type": "code",
   "execution_count": 3,
   "id": "3830a80a-6423-454d-b1cf-8eb127959dd8",
   "metadata": {},
   "outputs": [],
   "source": [
    "files = os.listdir()"
   ]
  },
  {
   "cell_type": "code",
   "execution_count": 4,
   "id": "6c6e9a88-9ca2-460f-830a-2e64d8810c7b",
   "metadata": {},
   "outputs": [],
   "source": [
    "df_list = [pd.read_csv(x) for x in files]\n",
    "\n",
    "# recursive function to concatenate dataframes \n",
    "def concat_df(df, idx):\n",
    "    if idx == len(df_list) - 1:\n",
    "        return df\n",
    "    else:\n",
    "        idx += 1\n",
    "        df = pd.concat([df, concat_df(df_list[idx], idx)])\n",
    "        return df"
   ]
  },
  {
   "cell_type": "code",
   "execution_count": 5,
   "id": "abca47cd-f460-4bc1-a0bc-b76e7926c79d",
   "metadata": {},
   "outputs": [],
   "source": [
    "full_df = concat_df(df_list[0], 0)"
   ]
  },
  {
   "cell_type": "code",
   "execution_count": 6,
   "id": "335445ea-910b-4d9d-9f8d-e10b60bc988d",
   "metadata": {},
   "outputs": [
    {
     "data": {
      "text/html": [
       "<div>\n",
       "<style scoped>\n",
       "    .dataframe tbody tr th:only-of-type {\n",
       "        vertical-align: middle;\n",
       "    }\n",
       "\n",
       "    .dataframe tbody tr th {\n",
       "        vertical-align: top;\n",
       "    }\n",
       "\n",
       "    .dataframe thead th {\n",
       "        text-align: right;\n",
       "    }\n",
       "</style>\n",
       "<table border=\"1\" class=\"dataframe\">\n",
       "  <thead>\n",
       "    <tr style=\"text-align: right;\">\n",
       "      <th></th>\n",
       "      <th>timestamp</th>\n",
       "      <th>count</th>\n",
       "      <th>building</th>\n",
       "    </tr>\n",
       "  </thead>\n",
       "  <tbody>\n",
       "    <tr>\n",
       "      <th>0</th>\n",
       "      <td>2021-09-19 00:00:00</td>\n",
       "      <td>248</td>\n",
       "      <td>Atki</td>\n",
       "    </tr>\n",
       "    <tr>\n",
       "      <th>1</th>\n",
       "      <td>2021-09-19 01:00:00</td>\n",
       "      <td>80</td>\n",
       "      <td>Atki</td>\n",
       "    </tr>\n",
       "    <tr>\n",
       "      <th>2</th>\n",
       "      <td>2021-09-19 02:00:00</td>\n",
       "      <td>68</td>\n",
       "      <td>Atki</td>\n",
       "    </tr>\n",
       "    <tr>\n",
       "      <th>3</th>\n",
       "      <td>2021-09-19 03:00:00</td>\n",
       "      <td>26</td>\n",
       "      <td>Atki</td>\n",
       "    </tr>\n",
       "    <tr>\n",
       "      <th>4</th>\n",
       "      <td>2021-09-19 04:00:00</td>\n",
       "      <td>28</td>\n",
       "      <td>Atki</td>\n",
       "    </tr>\n",
       "    <tr>\n",
       "      <th>...</th>\n",
       "      <td>...</td>\n",
       "      <td>...</td>\n",
       "      <td>...</td>\n",
       "    </tr>\n",
       "    <tr>\n",
       "      <th>1782</th>\n",
       "      <td>2021-08-29 19:00:00</td>\n",
       "      <td>1134</td>\n",
       "      <td>Wood</td>\n",
       "    </tr>\n",
       "    <tr>\n",
       "      <th>1783</th>\n",
       "      <td>2021-08-29 20:00:00</td>\n",
       "      <td>486</td>\n",
       "      <td>Wood</td>\n",
       "    </tr>\n",
       "    <tr>\n",
       "      <th>1784</th>\n",
       "      <td>2021-08-29 21:00:00</td>\n",
       "      <td>548</td>\n",
       "      <td>Wood</td>\n",
       "    </tr>\n",
       "    <tr>\n",
       "      <th>1785</th>\n",
       "      <td>2021-08-29 22:00:00</td>\n",
       "      <td>414</td>\n",
       "      <td>Wood</td>\n",
       "    </tr>\n",
       "    <tr>\n",
       "      <th>1786</th>\n",
       "      <td>2021-08-29 23:00:00</td>\n",
       "      <td>402</td>\n",
       "      <td>Wood</td>\n",
       "    </tr>\n",
       "  </tbody>\n",
       "</table>\n",
       "<p>652531 rows × 3 columns</p>\n",
       "</div>"
      ],
      "text/plain": [
       "                timestamp  count building\n",
       "0     2021-09-19 00:00:00    248     Atki\n",
       "1     2021-09-19 01:00:00     80     Atki\n",
       "2     2021-09-19 02:00:00     68     Atki\n",
       "3     2021-09-19 03:00:00     26     Atki\n",
       "4     2021-09-19 04:00:00     28     Atki\n",
       "...                   ...    ...      ...\n",
       "1782  2021-08-29 19:00:00   1134     Wood\n",
       "1783  2021-08-29 20:00:00    486     Wood\n",
       "1784  2021-08-29 21:00:00    548     Wood\n",
       "1785  2021-08-29 22:00:00    414     Wood\n",
       "1786  2021-08-29 23:00:00    402     Wood\n",
       "\n",
       "[652531 rows x 3 columns]"
      ]
     },
     "execution_count": 6,
     "metadata": {},
     "output_type": "execute_result"
    }
   ],
   "source": [
    "full_df"
   ]
  },
  {
   "cell_type": "code",
   "execution_count": 7,
   "id": "251fd3af-88c7-4e37-814c-507873ce97e8",
   "metadata": {},
   "outputs": [
    {
     "data": {
      "text/plain": [
       "Faci    8541\n",
       "Robi    8541\n",
       "Wood    8538\n",
       "Came    8538\n",
       "EPIC    8533\n",
       "        ... \n",
       "PROS    4073\n",
       "NCRC    3743\n",
       "Nine    2845\n",
       "Biss     902\n",
       "Scie     278\n",
       "Name: building, Length: 85, dtype: int64"
      ]
     },
     "execution_count": 7,
     "metadata": {},
     "output_type": "execute_result"
    }
   ],
   "source": [
    "full_df.building.value_counts()"
   ]
  },
  {
   "cell_type": "code",
   "execution_count": 8,
   "id": "8d60a820-c3c5-4a33-bf9d-69451422e31a",
   "metadata": {},
   "outputs": [],
   "source": [
    "os.chdir('/home/calvinhathcock/Documents/College/UNCC/Fall 2022/ITSC 4155/Project/ETL')"
   ]
  },
  {
   "cell_type": "code",
   "execution_count": 9,
   "id": "fa08ae9b-67ea-4896-885b-a088c6cdf919",
   "metadata": {},
   "outputs": [],
   "source": [
    "buildings = pd.read_csv('data_files/buildings.csv')"
   ]
  },
  {
   "cell_type": "code",
   "execution_count": 10,
   "id": "6f16daf8-fefa-4a8d-bdd0-e71f9f917ccf",
   "metadata": {},
   "outputs": [],
   "source": [
    "buildings.dropna(inplace=True)"
   ]
  },
  {
   "cell_type": "code",
   "execution_count": 11,
   "id": "7eef7adf-20e6-40cb-903f-3e2e8e4db82d",
   "metadata": {},
   "outputs": [],
   "source": [
    "buildings_list = list(buildings['Building abbreviation'])"
   ]
  },
  {
   "cell_type": "code",
   "execution_count": 12,
   "id": "de70196a-d5b4-4b13-afae-7acf4391d439",
   "metadata": {},
   "outputs": [],
   "source": [
    "full_df = full_df[ full_df.building.isin(buildings_list) ]"
   ]
  },
  {
   "cell_type": "code",
   "execution_count": 13,
   "id": "fa86e8d6-b6f2-4578-8c3f-ff9971950194",
   "metadata": {},
   "outputs": [
    {
     "data": {
      "text/plain": [
       "65"
      ]
     },
     "execution_count": 13,
     "metadata": {},
     "output_type": "execute_result"
    }
   ],
   "source": [
    "full_df.building.nunique()"
   ]
  },
  {
   "cell_type": "markdown",
   "id": "a646d880-7b43-43e7-b8bd-6d0c422d6653",
   "metadata": {},
   "source": [
    "### Append Longitude and Latitude "
   ]
  },
  {
   "cell_type": "code",
   "execution_count": 14,
   "id": "91d69561-4543-4962-b2fc-96ac97e494a5",
   "metadata": {},
   "outputs": [
    {
     "data": {
      "text/html": [
       "<div>\n",
       "<style scoped>\n",
       "    .dataframe tbody tr th:only-of-type {\n",
       "        vertical-align: middle;\n",
       "    }\n",
       "\n",
       "    .dataframe tbody tr th {\n",
       "        vertical-align: top;\n",
       "    }\n",
       "\n",
       "    .dataframe thead th {\n",
       "        text-align: right;\n",
       "    }\n",
       "</style>\n",
       "<table border=\"1\" class=\"dataframe\">\n",
       "  <thead>\n",
       "    <tr style=\"text-align: right;\">\n",
       "      <th></th>\n",
       "      <th>Building abbreviation</th>\n",
       "      <th>Building Name</th>\n",
       "      <th>Id</th>\n",
       "      <th>Latitude</th>\n",
       "      <th>Longitude</th>\n",
       "    </tr>\n",
       "  </thead>\n",
       "  <tbody>\n",
       "    <tr>\n",
       "      <th>0</th>\n",
       "      <td>Atki</td>\n",
       "      <td>Atkins Library</td>\n",
       "      <td>1</td>\n",
       "      <td>35.305893</td>\n",
       "      <td>-80.732145</td>\n",
       "    </tr>\n",
       "    <tr>\n",
       "      <th>1</th>\n",
       "      <td>Auxi</td>\n",
       "      <td>Auxiliary Services Building</td>\n",
       "      <td>2</td>\n",
       "      <td>35.307772</td>\n",
       "      <td>-80.730500</td>\n",
       "    </tr>\n",
       "    <tr>\n",
       "      <th>3</th>\n",
       "      <td>Band</td>\n",
       "      <td>Barnhardt SAC</td>\n",
       "      <td>4</td>\n",
       "      <td>35.306302</td>\n",
       "      <td>-80.734409</td>\n",
       "    </tr>\n",
       "    <tr>\n",
       "      <th>4</th>\n",
       "      <td>BelG</td>\n",
       "      <td>Belk Gymnasium</td>\n",
       "      <td>5</td>\n",
       "      <td>35.305401</td>\n",
       "      <td>-80.735525</td>\n",
       "    </tr>\n",
       "    <tr>\n",
       "      <th>5</th>\n",
       "      <td>BelH</td>\n",
       "      <td>Belk Hall</td>\n",
       "      <td>6</td>\n",
       "      <td>35.310418</td>\n",
       "      <td>-80.734625</td>\n",
       "    </tr>\n",
       "    <tr>\n",
       "      <th>...</th>\n",
       "      <td>...</td>\n",
       "      <td>...</td>\n",
       "      <td>...</td>\n",
       "      <td>...</td>\n",
       "      <td>...</td>\n",
       "    </tr>\n",
       "    <tr>\n",
       "      <th>64</th>\n",
       "      <td>Unio</td>\n",
       "      <td>Union Deck</td>\n",
       "      <td>65</td>\n",
       "      <td>35.309127</td>\n",
       "      <td>-80.735300</td>\n",
       "    </tr>\n",
       "    <tr>\n",
       "      <th>66</th>\n",
       "      <td>Wall</td>\n",
       "      <td>Wallis Hall</td>\n",
       "      <td>67</td>\n",
       "      <td>35.311493</td>\n",
       "      <td>-80.733694</td>\n",
       "    </tr>\n",
       "    <tr>\n",
       "      <th>67</th>\n",
       "      <td>Winn</td>\n",
       "      <td>Winningham</td>\n",
       "      <td>68</td>\n",
       "      <td>35.305137</td>\n",
       "      <td>-80.730419</td>\n",
       "    </tr>\n",
       "    <tr>\n",
       "      <th>68</th>\n",
       "      <td>With</td>\n",
       "      <td>Witherspoon Hall</td>\n",
       "      <td>69</td>\n",
       "      <td>35.310855</td>\n",
       "      <td>-80.732324</td>\n",
       "    </tr>\n",
       "    <tr>\n",
       "      <th>69</th>\n",
       "      <td>Wood</td>\n",
       "      <td>Woodward Hall</td>\n",
       "      <td>70</td>\n",
       "      <td>35.307516</td>\n",
       "      <td>-80.735717</td>\n",
       "    </tr>\n",
       "  </tbody>\n",
       "</table>\n",
       "<p>65 rows × 5 columns</p>\n",
       "</div>"
      ],
      "text/plain": [
       "   Building abbreviation                Building Name  Id   Latitude  \\\n",
       "0                   Atki               Atkins Library   1  35.305893   \n",
       "1                   Auxi  Auxiliary Services Building   2  35.307772   \n",
       "3                   Band                Barnhardt SAC   4  35.306302   \n",
       "4                   BelG               Belk Gymnasium   5  35.305401   \n",
       "5                   BelH                    Belk Hall   6  35.310418   \n",
       "..                   ...                          ...  ..        ...   \n",
       "64                  Unio                   Union Deck  65  35.309127   \n",
       "66                  Wall                  Wallis Hall  67  35.311493   \n",
       "67                  Winn                   Winningham  68  35.305137   \n",
       "68                  With             Witherspoon Hall  69  35.310855   \n",
       "69                  Wood                Woodward Hall  70  35.307516   \n",
       "\n",
       "    Longitude  \n",
       "0  -80.732145  \n",
       "1  -80.730500  \n",
       "3  -80.734409  \n",
       "4  -80.735525  \n",
       "5  -80.734625  \n",
       "..        ...  \n",
       "64 -80.735300  \n",
       "66 -80.733694  \n",
       "67 -80.730419  \n",
       "68 -80.732324  \n",
       "69 -80.735717  \n",
       "\n",
       "[65 rows x 5 columns]"
      ]
     },
     "execution_count": 14,
     "metadata": {},
     "output_type": "execute_result"
    }
   ],
   "source": [
    "buildings"
   ]
  },
  {
   "cell_type": "code",
   "execution_count": 17,
   "id": "a9f98399-d649-4539-80ce-0c7a5d6f6f4e",
   "metadata": {},
   "outputs": [],
   "source": [
    "lat_list = list(buildings.Latitude)"
   ]
  },
  {
   "cell_type": "code",
   "execution_count": 19,
   "id": "b63db155-4184-47e8-9874-c08c509d47cf",
   "metadata": {},
   "outputs": [],
   "source": [
    "long_list = list(buildings.Longitude)"
   ]
  },
  {
   "cell_type": "code",
   "execution_count": 21,
   "id": "3c4ee217-e4ae-4a55-8ac3-40b98a3324c8",
   "metadata": {},
   "outputs": [],
   "source": [
    "lat_dict = { k:v for (k,v) in zip(buildings_list, lat_list) }\n",
    "long_dict = { k:v for (k,v) in zip(buildings_list, long_list) }"
   ]
  },
  {
   "cell_type": "code",
   "execution_count": 24,
   "id": "bc49e8e5-b1cd-4e30-afb1-87396a5be5fb",
   "metadata": {},
   "outputs": [
    {
     "name": "stderr",
     "output_type": "stream",
     "text": [
      "/tmp/ipykernel_11118/687435216.py:1: SettingWithCopyWarning: \n",
      "A value is trying to be set on a copy of a slice from a DataFrame.\n",
      "Try using .loc[row_indexer,col_indexer] = value instead\n",
      "\n",
      "See the caveats in the documentation: https://pandas.pydata.org/pandas-docs/stable/user_guide/indexing.html#returning-a-view-versus-a-copy\n",
      "  full_df['Latitude'] = full_df['building'].apply( lambda x: lat_dict[x] )\n"
     ]
    }
   ],
   "source": [
    "full_df['Latitude'] = full_df['building'].apply( lambda x: lat_dict[x] )"
   ]
  },
  {
   "cell_type": "code",
   "execution_count": 26,
   "id": "81c13875-0f08-408c-a301-eaa2f2328cad",
   "metadata": {},
   "outputs": [
    {
     "name": "stderr",
     "output_type": "stream",
     "text": [
      "/tmp/ipykernel_11118/1631069350.py:1: SettingWithCopyWarning: \n",
      "A value is trying to be set on a copy of a slice from a DataFrame.\n",
      "Try using .loc[row_indexer,col_indexer] = value instead\n",
      "\n",
      "See the caveats in the documentation: https://pandas.pydata.org/pandas-docs/stable/user_guide/indexing.html#returning-a-view-versus-a-copy\n",
      "  full_df['Longitude'] = full_df['building'].apply( lambda x: long_dict[x] )\n"
     ]
    }
   ],
   "source": [
    "full_df['Longitude'] = full_df['building'].apply( lambda x: long_dict[x] )"
   ]
  },
  {
   "cell_type": "code",
   "execution_count": 27,
   "id": "752c33b9-5456-414e-910f-887aabdd37e8",
   "metadata": {},
   "outputs": [
    {
     "data": {
      "text/html": [
       "<div>\n",
       "<style scoped>\n",
       "    .dataframe tbody tr th:only-of-type {\n",
       "        vertical-align: middle;\n",
       "    }\n",
       "\n",
       "    .dataframe tbody tr th {\n",
       "        vertical-align: top;\n",
       "    }\n",
       "\n",
       "    .dataframe thead th {\n",
       "        text-align: right;\n",
       "    }\n",
       "</style>\n",
       "<table border=\"1\" class=\"dataframe\">\n",
       "  <thead>\n",
       "    <tr style=\"text-align: right;\">\n",
       "      <th></th>\n",
       "      <th>timestamp</th>\n",
       "      <th>count</th>\n",
       "      <th>building</th>\n",
       "      <th>Latitude</th>\n",
       "      <th>Longitude</th>\n",
       "    </tr>\n",
       "  </thead>\n",
       "  <tbody>\n",
       "    <tr>\n",
       "      <th>0</th>\n",
       "      <td>2021-09-19 00:00:00</td>\n",
       "      <td>248</td>\n",
       "      <td>Atki</td>\n",
       "      <td>35.305893</td>\n",
       "      <td>-80.732145</td>\n",
       "    </tr>\n",
       "    <tr>\n",
       "      <th>1</th>\n",
       "      <td>2021-09-19 01:00:00</td>\n",
       "      <td>80</td>\n",
       "      <td>Atki</td>\n",
       "      <td>35.305893</td>\n",
       "      <td>-80.732145</td>\n",
       "    </tr>\n",
       "    <tr>\n",
       "      <th>2</th>\n",
       "      <td>2021-09-19 02:00:00</td>\n",
       "      <td>68</td>\n",
       "      <td>Atki</td>\n",
       "      <td>35.305893</td>\n",
       "      <td>-80.732145</td>\n",
       "    </tr>\n",
       "    <tr>\n",
       "      <th>3</th>\n",
       "      <td>2021-09-19 03:00:00</td>\n",
       "      <td>26</td>\n",
       "      <td>Atki</td>\n",
       "      <td>35.305893</td>\n",
       "      <td>-80.732145</td>\n",
       "    </tr>\n",
       "    <tr>\n",
       "      <th>4</th>\n",
       "      <td>2021-09-19 04:00:00</td>\n",
       "      <td>28</td>\n",
       "      <td>Atki</td>\n",
       "      <td>35.305893</td>\n",
       "      <td>-80.732145</td>\n",
       "    </tr>\n",
       "    <tr>\n",
       "      <th>...</th>\n",
       "      <td>...</td>\n",
       "      <td>...</td>\n",
       "      <td>...</td>\n",
       "      <td>...</td>\n",
       "      <td>...</td>\n",
       "    </tr>\n",
       "    <tr>\n",
       "      <th>1782</th>\n",
       "      <td>2021-08-29 19:00:00</td>\n",
       "      <td>1134</td>\n",
       "      <td>Wood</td>\n",
       "      <td>35.307516</td>\n",
       "      <td>-80.735717</td>\n",
       "    </tr>\n",
       "    <tr>\n",
       "      <th>1783</th>\n",
       "      <td>2021-08-29 20:00:00</td>\n",
       "      <td>486</td>\n",
       "      <td>Wood</td>\n",
       "      <td>35.307516</td>\n",
       "      <td>-80.735717</td>\n",
       "    </tr>\n",
       "    <tr>\n",
       "      <th>1784</th>\n",
       "      <td>2021-08-29 21:00:00</td>\n",
       "      <td>548</td>\n",
       "      <td>Wood</td>\n",
       "      <td>35.307516</td>\n",
       "      <td>-80.735717</td>\n",
       "    </tr>\n",
       "    <tr>\n",
       "      <th>1785</th>\n",
       "      <td>2021-08-29 22:00:00</td>\n",
       "      <td>414</td>\n",
       "      <td>Wood</td>\n",
       "      <td>35.307516</td>\n",
       "      <td>-80.735717</td>\n",
       "    </tr>\n",
       "    <tr>\n",
       "      <th>1786</th>\n",
       "      <td>2021-08-29 23:00:00</td>\n",
       "      <td>402</td>\n",
       "      <td>Wood</td>\n",
       "      <td>35.307516</td>\n",
       "      <td>-80.735717</td>\n",
       "    </tr>\n",
       "  </tbody>\n",
       "</table>\n",
       "<p>532388 rows × 5 columns</p>\n",
       "</div>"
      ],
      "text/plain": [
       "                timestamp  count building   Latitude  Longitude\n",
       "0     2021-09-19 00:00:00    248     Atki  35.305893 -80.732145\n",
       "1     2021-09-19 01:00:00     80     Atki  35.305893 -80.732145\n",
       "2     2021-09-19 02:00:00     68     Atki  35.305893 -80.732145\n",
       "3     2021-09-19 03:00:00     26     Atki  35.305893 -80.732145\n",
       "4     2021-09-19 04:00:00     28     Atki  35.305893 -80.732145\n",
       "...                   ...    ...      ...        ...        ...\n",
       "1782  2021-08-29 19:00:00   1134     Wood  35.307516 -80.735717\n",
       "1783  2021-08-29 20:00:00    486     Wood  35.307516 -80.735717\n",
       "1784  2021-08-29 21:00:00    548     Wood  35.307516 -80.735717\n",
       "1785  2021-08-29 22:00:00    414     Wood  35.307516 -80.735717\n",
       "1786  2021-08-29 23:00:00    402     Wood  35.307516 -80.735717\n",
       "\n",
       "[532388 rows x 5 columns]"
      ]
     },
     "execution_count": 27,
     "metadata": {},
     "output_type": "execute_result"
    }
   ],
   "source": [
    "full_df"
   ]
  },
  {
   "cell_type": "code",
   "execution_count": 32,
   "id": "b198e218-44f1-4782-bbf9-b0bac591ee50",
   "metadata": {},
   "outputs": [],
   "source": [
    "full_df = full_df.reindex(columns = ['timestamp', 'building', 'Latitude', 'Longitude', 'count'])"
   ]
  },
  {
   "cell_type": "code",
   "execution_count": 33,
   "id": "c575b3d5-46d6-45f3-8310-217cb96ae6a6",
   "metadata": {},
   "outputs": [],
   "source": [
    "full_df.to_csv('data_files/full_data_flattened.csv', index = False)"
   ]
  },
  {
   "cell_type": "code",
   "execution_count": 34,
   "id": "d92ed830-cc4e-41b4-8884-0e5e384e12d4",
   "metadata": {},
   "outputs": [
    {
     "data": {
      "text/plain": [
       "(532388, 5)"
      ]
     },
     "execution_count": 34,
     "metadata": {},
     "output_type": "execute_result"
    }
   ],
   "source": [
    "full_df.shape"
   ]
  }
 ],
 "metadata": {
  "kernelspec": {
   "display_name": "Python 3 (ipykernel)",
   "language": "python",
   "name": "python3"
  },
  "language_info": {
   "codemirror_mode": {
    "name": "ipython",
    "version": 3
   },
   "file_extension": ".py",
   "mimetype": "text/x-python",
   "name": "python",
   "nbconvert_exporter": "python",
   "pygments_lexer": "ipython3",
   "version": "3.10.4"
  }
 },
 "nbformat": 4,
 "nbformat_minor": 5
}
